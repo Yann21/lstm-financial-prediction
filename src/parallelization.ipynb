{
 "cells": [
  {
   "cell_type": "code",
   "execution_count": 2,
   "metadata": {
    "ExecuteTime": {
     "end_time": "2020-08-31T16:02:49.844630Z",
     "start_time": "2020-08-31T16:02:45.174996Z"
    }
   },
   "outputs": [
    {
     "name": "stdout",
     "output_type": "stream",
     "text": [
      "3.8.3 (default, Jul  2 2020, 16:21:59) \n",
      "[GCC 7.3.0] \n",
      " 2.2.0\n"
     ]
    }
   ],
   "source": [
    "import sys\n",
    "import numpy as np\n",
    "import tensorflow as tf\n",
    "import tensorflow.keras as keras\n",
    "from pyspark.sql import SparkSession\n",
    "\n",
    "import pandas as pd\n",
    "import pickle\n",
    "\n",
    "spark = SparkSession.builder \\\n",
    "    .master(\"local[*]\") \\\n",
    "    .appName(\"covid19\") \\\n",
    "    .getOrCreate()\n",
    "\n",
    "print(sys.version, \"\\n\", tf.__version__)"
   ]
  },
  {
   "cell_type": "code",
   "execution_count": 12,
   "metadata": {
    "ExecuteTime": {
     "end_time": "2020-08-31T14:35:48.899730Z",
     "start_time": "2020-08-31T14:35:48.887326Z"
    }
   },
   "outputs": [],
   "source": [
    "# Helper Functions\n",
    "def distributed_dataset(dataset, batch_size):\n",
    "    return windowed_dataset(dataset, 20, batch_size, 1000)\n",
    "\n",
    "def windowed_dataset(dataset, window_size, batch_size, shuffle_buffer):\n",
    "    dataset = tf.data.Dataset.from_tensor_slices(dataset)\n",
    "    dataset = dataset.window(window_size + 1, shift=1, drop_remainder=True)\n",
    "    dataset = dataset.flat_map(lambda window: window.batch(window_size + 1))\n",
    "    dataset = dataset.shuffle(shuffle_buffer).map(lambda window: (window[:-1], window[-1:]))\n",
    "    dataset = dataset.repeat().batch(batch_size).prefetch(1)\n",
    "    return dataset"
   ]
  },
  {
   "cell_type": "markdown",
   "metadata": {},
   "source": [
    "# Setup\n",
    "## Data"
   ]
  },
  {
   "cell_type": "code",
   "execution_count": 13,
   "metadata": {
    "ExecuteTime": {
     "end_time": "2020-08-31T14:35:55.948713Z",
     "start_time": "2020-08-31T14:35:54.075979Z"
    }
   },
   "outputs": [],
   "source": [
    "prices = spark.read.csv(\"ProcessedData/testing_set.csv\", \n",
    "                        header=True, \n",
    "                        inferSchema=True).drop(\"_c0\").toPandas()\n",
    "prices, time = prices.iloc[:, 1:], prices.iloc[:, :1]\n",
    "\n",
    "mono_worker_dataset = windowed_dataset(prices, \n",
    "                           window_size=20, \n",
    "                           batch_size=32, \n",
    "                           shuffle_buffer=1000)"
   ]
  },
  {
   "cell_type": "markdown",
   "metadata": {},
   "source": [
    "## LSTM"
   ]
  },
  {
   "cell_type": "code",
   "execution_count": 3,
   "metadata": {
    "ExecuteTime": {
     "end_time": "2020-08-31T16:02:50.753492Z",
     "start_time": "2020-08-31T16:02:49.848953Z"
    }
   },
   "outputs": [],
   "source": [
    "lstm_model = keras.models.load_model(\"model.h5\")"
   ]
  },
  {
   "cell_type": "markdown",
   "metadata": {},
   "source": [
    "# Parallelization\n",
    "Note: Run strategy only once"
   ]
  },
  {
   "cell_type": "code",
   "execution_count": 6,
   "metadata": {
    "ExecuteTime": {
     "end_time": "2020-08-31T14:33:57.853243Z",
     "start_time": "2020-08-31T14:33:57.847848Z"
    }
   },
   "outputs": [
    {
     "name": "stdout",
     "output_type": "stream",
     "text": [
      "WARNING:tensorflow:Collective ops is not configured at program startup. Some performance features may not be enabled.\n",
      "INFO:tensorflow:Using MirroredStrategy with devices ('/device:CPU:0',)\n",
      "INFO:tensorflow:Single-worker MultiWorkerMirroredStrategy with local_devices = ('/device:CPU:0',), communication = CollectiveCommunication.AUTO\n"
     ]
    }
   ],
   "source": [
    "import os\n",
    "\n",
    "strategy = tf.distribute.experimental.MultiWorkerMirroredStrategy()\n",
    "os.environ[\"TF_CONFIG\"] = json.dumps({\n",
    "    \"cluster\": {\n",
    "        \"worker\": [\"localhost:12345\", \"localhost:23456\"]\n",
    "    },\n",
    "    \"task\": {\"type\": \"worker\", \"index\": 0}\n",
    "})"
   ]
  },
  {
   "cell_type": "code",
   "execution_count": 14,
   "metadata": {
    "ExecuteTime": {
     "end_time": "2020-08-31T14:35:57.145581Z",
     "start_time": "2020-08-31T14:35:57.118633Z"
    }
   },
   "outputs": [],
   "source": [
    "num_workers = 3\n",
    "per_worker_batch_size = 20\n",
    "batch_size = per_worker_batch_size * num_workers\n",
    "\n",
    "multi_worker_dataset = distributed_dataset(prices, batch_size)\n",
    "\n",
    "options = tf.data.Options()\n",
    "options.experimental_distribute.auto_shard_policy = tf.data.experimental.AutoShardPolicy.OFF\n",
    "dataset_no_auto_shard = multi_worker_dataset.with_options(options)"
   ]
  },
  {
   "cell_type": "code",
   "execution_count": 15,
   "metadata": {
    "ExecuteTime": {
     "end_time": "2020-08-31T14:36:43.765682Z",
     "start_time": "2020-08-31T14:35:57.925680Z"
    }
   },
   "outputs": [
    {
     "name": "stdout",
     "output_type": "stream",
     "text": [
      "Epoch 1/3\n",
      "70/70 [==============================] - ETA: 0s - loss: 0.0489 - mean_absolute_error: 0.253 - ETA: 7s - loss: 0.0476 - mean_absolute_error: 0.249 - ETA: 9s - loss: 0.0473 - mean_absolute_error: 0.248 - ETA: 10s - loss: 0.0470 - mean_absolute_error: 0.24 - ETA: 11s - loss: 0.0468 - mean_absolute_error: 0.24 - ETA: 11s - loss: 0.0466 - mean_absolute_error: 0.24 - ETA: 11s - loss: 0.0470 - mean_absolute_error: 0.24 - ETA: 11s - loss: 0.0466 - mean_absolute_error: 0.24 - ETA: 11s - loss: 0.0469 - mean_absolute_error: 0.24 - ETA: 11s - loss: 0.0467 - mean_absolute_error: 0.24 - ETA: 11s - loss: 0.0466 - mean_absolute_error: 0.24 - ETA: 11s - loss: 0.0467 - mean_absolute_error: 0.24 - ETA: 11s - loss: 0.0467 - mean_absolute_error: 0.24 - ETA: 11s - loss: 0.0467 - mean_absolute_error: 0.24 - ETA: 11s - loss: 0.0468 - mean_absolute_error: 0.24 - ETA: 11s - loss: 0.0466 - mean_absolute_error: 0.24 - ETA: 10s - loss: 0.0465 - mean_absolute_error: 0.24 - ETA: 10s - loss: 0.0466 - mean_absolute_error: 0.24 - ETA: 10s - loss: 0.0466 - mean_absolute_error: 0.24 - ETA: 10s - loss: 0.0466 - mean_absolute_error: 0.24 - ETA: 10s - loss: 0.0467 - mean_absolute_error: 0.24 - ETA: 9s - loss: 0.0467 - mean_absolute_error: 0.2473 - ETA: 9s - loss: 0.0466 - mean_absolute_error: 0.247 - ETA: 9s - loss: 0.0465 - mean_absolute_error: 0.246 - ETA: 9s - loss: 0.0465 - mean_absolute_error: 0.246 - ETA: 9s - loss: 0.0465 - mean_absolute_error: 0.246 - ETA: 8s - loss: 0.0465 - mean_absolute_error: 0.246 - ETA: 8s - loss: 0.0465 - mean_absolute_error: 0.246 - ETA: 8s - loss: 0.0464 - mean_absolute_error: 0.246 - ETA: 8s - loss: 0.0464 - mean_absolute_error: 0.246 - ETA: 8s - loss: 0.0464 - mean_absolute_error: 0.246 - ETA: 7s - loss: 0.0464 - mean_absolute_error: 0.246 - ETA: 7s - loss: 0.0464 - mean_absolute_error: 0.246 - ETA: 7s - loss: 0.0463 - mean_absolute_error: 0.246 - ETA: 7s - loss: 0.0463 - mean_absolute_error: 0.246 - ETA: 7s - loss: 0.0463 - mean_absolute_error: 0.246 - ETA: 6s - loss: 0.0463 - mean_absolute_error: 0.246 - ETA: 6s - loss: 0.0463 - mean_absolute_error: 0.246 - ETA: 6s - loss: 0.0462 - mean_absolute_error: 0.246 - ETA: 6s - loss: 0.0462 - mean_absolute_error: 0.245 - ETA: 6s - loss: 0.0462 - mean_absolute_error: 0.245 - ETA: 5s - loss: 0.0461 - mean_absolute_error: 0.245 - ETA: 5s - loss: 0.0462 - mean_absolute_error: 0.245 - ETA: 5s - loss: 0.0462 - mean_absolute_error: 0.245 - ETA: 5s - loss: 0.0461 - mean_absolute_error: 0.245 - ETA: 5s - loss: 0.0461 - mean_absolute_error: 0.245 - ETA: 4s - loss: 0.0461 - mean_absolute_error: 0.245 - ETA: 4s - loss: 0.0461 - mean_absolute_error: 0.245 - ETA: 4s - loss: 0.0461 - mean_absolute_error: 0.245 - ETA: 4s - loss: 0.0460 - mean_absolute_error: 0.245 - ETA: 4s - loss: 0.0460 - mean_absolute_error: 0.245 - ETA: 3s - loss: 0.0460 - mean_absolute_error: 0.245 - ETA: 3s - loss: 0.0459 - mean_absolute_error: 0.245 - ETA: 3s - loss: 0.0460 - mean_absolute_error: 0.245 - ETA: 3s - loss: 0.0459 - mean_absolute_error: 0.245 - ETA: 2s - loss: 0.0459 - mean_absolute_error: 0.245 - ETA: 2s - loss: 0.0459 - mean_absolute_error: 0.245 - ETA: 2s - loss: 0.0459 - mean_absolute_error: 0.245 - ETA: 2s - loss: 0.0458 - mean_absolute_error: 0.245 - ETA: 2s - loss: 0.0458 - mean_absolute_error: 0.245 - ETA: 1s - loss: 0.0458 - mean_absolute_error: 0.244 - ETA: 1s - loss: 0.0458 - mean_absolute_error: 0.244 - ETA: 1s - loss: 0.0457 - mean_absolute_error: 0.244 - ETA: 1s - loss: 0.0457 - mean_absolute_error: 0.244 - ETA: 1s - loss: 0.0457 - mean_absolute_error: 0.244 - ETA: 0s - loss: 0.0457 - mean_absolute_error: 0.244 - ETA: 0s - loss: 0.0457 - mean_absolute_error: 0.244 - ETA: 0s - loss: 0.0457 - mean_absolute_error: 0.244 - ETA: 0s - loss: 0.0457 - mean_absolute_error: 0.244 - ETA: 0s - loss: 0.0456 - mean_absolute_error: 0.244 - 15s 211ms/step - loss: 0.0456 - mean_absolute_error: 0.2443\n",
      "Epoch 2/3\n",
      "70/70 [==============================] - ETA: 0s - loss: 0.0458 - mean_absolute_error: 0.245 - ETA: 6s - loss: 0.0453 - mean_absolute_error: 0.244 - ETA: 9s - loss: 0.0449 - mean_absolute_error: 0.242 - ETA: 10s - loss: 0.0450 - mean_absolute_error: 0.24 - ETA: 11s - loss: 0.0445 - mean_absolute_error: 0.24 - ETA: 11s - loss: 0.0444 - mean_absolute_error: 0.24 - ETA: 11s - loss: 0.0446 - mean_absolute_error: 0.24 - ETA: 11s - loss: 0.0443 - mean_absolute_error: 0.24 - ETA: 11s - loss: 0.0443 - mean_absolute_error: 0.24 - ETA: 11s - loss: 0.0440 - mean_absolute_error: 0.24 - ETA: 11s - loss: 0.0442 - mean_absolute_error: 0.24 - ETA: 11s - loss: 0.0441 - mean_absolute_error: 0.24 - ETA: 11s - loss: 0.0442 - mean_absolute_error: 0.24 - ETA: 11s - loss: 0.0441 - mean_absolute_error: 0.24 - ETA: 11s - loss: 0.0442 - mean_absolute_error: 0.24 - ETA: 11s - loss: 0.0440 - mean_absolute_error: 0.23 - ETA: 11s - loss: 0.0440 - mean_absolute_error: 0.24 - ETA: 10s - loss: 0.0441 - mean_absolute_error: 0.24 - ETA: 10s - loss: 0.0440 - mean_absolute_error: 0.24 - ETA: 10s - loss: 0.0439 - mean_absolute_error: 0.23 - ETA: 10s - loss: 0.0440 - mean_absolute_error: 0.24 - ETA: 9s - loss: 0.0439 - mean_absolute_error: 0.2399 - ETA: 9s - loss: 0.0439 - mean_absolute_error: 0.239 - ETA: 9s - loss: 0.0440 - mean_absolute_error: 0.240 - ETA: 9s - loss: 0.0439 - mean_absolute_error: 0.240 - ETA: 9s - loss: 0.0439 - mean_absolute_error: 0.239 - ETA: 8s - loss: 0.0439 - mean_absolute_error: 0.239 - ETA: 8s - loss: 0.0438 - mean_absolute_error: 0.239 - ETA: 8s - loss: 0.0438 - mean_absolute_error: 0.239 - ETA: 8s - loss: 0.0438 - mean_absolute_error: 0.239 - ETA: 8s - loss: 0.0438 - mean_absolute_error: 0.239 - ETA: 7s - loss: 0.0437 - mean_absolute_error: 0.239 - ETA: 7s - loss: 0.0437 - mean_absolute_error: 0.239 - ETA: 7s - loss: 0.0437 - mean_absolute_error: 0.239 - ETA: 7s - loss: 0.0437 - mean_absolute_error: 0.239 - ETA: 7s - loss: 0.0437 - mean_absolute_error: 0.239 - ETA: 6s - loss: 0.0437 - mean_absolute_error: 0.239 - ETA: 6s - loss: 0.0436 - mean_absolute_error: 0.239 - ETA: 6s - loss: 0.0436 - mean_absolute_error: 0.239 - ETA: 6s - loss: 0.0436 - mean_absolute_error: 0.238 - ETA: 6s - loss: 0.0436 - mean_absolute_error: 0.239 - ETA: 5s - loss: 0.0435 - mean_absolute_error: 0.238 - ETA: 5s - loss: 0.0435 - mean_absolute_error: 0.238 - ETA: 5s - loss: 0.0436 - mean_absolute_error: 0.238 - ETA: 5s - loss: 0.0435 - mean_absolute_error: 0.238 - ETA: 5s - loss: 0.0435 - mean_absolute_error: 0.238 - ETA: 4s - loss: 0.0435 - mean_absolute_error: 0.238 - ETA: 4s - loss: 0.0435 - mean_absolute_error: 0.238 - ETA: 4s - loss: 0.0435 - mean_absolute_error: 0.238 - ETA: 4s - loss: 0.0435 - mean_absolute_error: 0.238 - ETA: 4s - loss: 0.0434 - mean_absolute_error: 0.238 - ETA: 3s - loss: 0.0434 - mean_absolute_error: 0.238 - ETA: 3s - loss: 0.0434 - mean_absolute_error: 0.238 - ETA: 3s - loss: 0.0434 - mean_absolute_error: 0.238 - ETA: 3s - loss: 0.0434 - mean_absolute_error: 0.238 - ETA: 2s - loss: 0.0433 - mean_absolute_error: 0.238 - ETA: 2s - loss: 0.0433 - mean_absolute_error: 0.238 - ETA: 2s - loss: 0.0433 - mean_absolute_error: 0.238 - ETA: 2s - loss: 0.0433 - mean_absolute_error: 0.238 - ETA: 2s - loss: 0.0433 - mean_absolute_error: 0.238 - ETA: 1s - loss: 0.0432 - mean_absolute_error: 0.237 - ETA: 1s - loss: 0.0433 - mean_absolute_error: 0.238 - ETA: 1s - loss: 0.0433 - mean_absolute_error: 0.238 - ETA: 1s - loss: 0.0432 - mean_absolute_error: 0.237 - ETA: 1s - loss: 0.0432 - mean_absolute_error: 0.237 - ETA: 0s - loss: 0.0432 - mean_absolute_error: 0.237 - ETA: 0s - loss: 0.0431 - mean_absolute_error: 0.237 - ETA: 0s - loss: 0.0431 - mean_absolute_error: 0.237 - ETA: 0s - loss: 0.0431 - mean_absolute_error: 0.237 - ETA: 0s - loss: 0.0431 - mean_absolute_error: 0.237 - 15s 213ms/step - loss: 0.0431 - mean_absolute_error: 0.2375\n",
      "Epoch 3/3\n",
      "70/70 [==============================] - ETA: 0s - loss: 0.0435 - mean_absolute_error: 0.238 - ETA: 7s - loss: 0.0428 - mean_absolute_error: 0.236 - ETA: 11s - loss: 0.0426 - mean_absolute_error: 0.23 - ETA: 12s - loss: 0.0419 - mean_absolute_error: 0.23 - ETA: 13s - loss: 0.0425 - mean_absolute_error: 0.23 - ETA: 13s - loss: 0.0423 - mean_absolute_error: 0.23 - ETA: 14s - loss: 0.0420 - mean_absolute_error: 0.23 - ETA: 14s - loss: 0.0422 - mean_absolute_error: 0.23 - ETA: 14s - loss: 0.0421 - mean_absolute_error: 0.23 - ETA: 14s - loss: 0.0419 - mean_absolute_error: 0.23 - ETA: 14s - loss: 0.0420 - mean_absolute_error: 0.23 - ETA: 13s - loss: 0.0420 - mean_absolute_error: 0.23 - ETA: 13s - loss: 0.0420 - mean_absolute_error: 0.23 - ETA: 13s - loss: 0.0419 - mean_absolute_error: 0.23 - ETA: 13s - loss: 0.0420 - mean_absolute_error: 0.23 - ETA: 12s - loss: 0.0419 - mean_absolute_error: 0.23 - ETA: 12s - loss: 0.0419 - mean_absolute_error: 0.23 - ETA: 12s - loss: 0.0419 - mean_absolute_error: 0.23 - ETA: 12s - loss: 0.0419 - mean_absolute_error: 0.23 - ETA: 11s - loss: 0.0418 - mean_absolute_error: 0.23 - ETA: 11s - loss: 0.0418 - mean_absolute_error: 0.23 - ETA: 11s - loss: 0.0418 - mean_absolute_error: 0.23 - ETA: 10s - loss: 0.0418 - mean_absolute_error: 0.23 - ETA: 10s - loss: 0.0418 - mean_absolute_error: 0.23 - ETA: 10s - loss: 0.0418 - mean_absolute_error: 0.23 - ETA: 10s - loss: 0.0417 - mean_absolute_error: 0.23 - ETA: 9s - loss: 0.0418 - mean_absolute_error: 0.2337 - ETA: 9s - loss: 0.0417 - mean_absolute_error: 0.233 - ETA: 9s - loss: 0.0417 - mean_absolute_error: 0.233 - ETA: 9s - loss: 0.0416 - mean_absolute_error: 0.233 - ETA: 8s - loss: 0.0416 - mean_absolute_error: 0.233 - ETA: 8s - loss: 0.0416 - mean_absolute_error: 0.233 - ETA: 8s - loss: 0.0416 - mean_absolute_error: 0.233 - ETA: 8s - loss: 0.0416 - mean_absolute_error: 0.233 - ETA: 7s - loss: 0.0416 - mean_absolute_error: 0.233 - ETA: 7s - loss: 0.0415 - mean_absolute_error: 0.233 - ETA: 7s - loss: 0.0415 - mean_absolute_error: 0.233 - ETA: 7s - loss: 0.0415 - mean_absolute_error: 0.233 - ETA: 7s - loss: 0.0415 - mean_absolute_error: 0.233 - ETA: 6s - loss: 0.0415 - mean_absolute_error: 0.233 - ETA: 6s - loss: 0.0415 - mean_absolute_error: 0.232 - ETA: 6s - loss: 0.0415 - mean_absolute_error: 0.233 - ETA: 6s - loss: 0.0414 - mean_absolute_error: 0.232 - ETA: 5s - loss: 0.0415 - mean_absolute_error: 0.232 - ETA: 5s - loss: 0.0414 - mean_absolute_error: 0.232 - ETA: 5s - loss: 0.0414 - mean_absolute_error: 0.232 - ETA: 5s - loss: 0.0415 - mean_absolute_error: 0.232 - ETA: 4s - loss: 0.0414 - mean_absolute_error: 0.232 - ETA: 4s - loss: 0.0414 - mean_absolute_error: 0.232 - ETA: 4s - loss: 0.0414 - mean_absolute_error: 0.232 - ETA: 4s - loss: 0.0413 - mean_absolute_error: 0.232 - ETA: 4s - loss: 0.0414 - mean_absolute_error: 0.232 - ETA: 3s - loss: 0.0413 - mean_absolute_error: 0.232 - ETA: 3s - loss: 0.0413 - mean_absolute_error: 0.232 - ETA: 3s - loss: 0.0413 - mean_absolute_error: 0.232 - ETA: 3s - loss: 0.0413 - mean_absolute_error: 0.232 - ETA: 2s - loss: 0.0413 - mean_absolute_error: 0.232 - ETA: 2s - loss: 0.0413 - mean_absolute_error: 0.232 - ETA: 2s - loss: 0.0412 - mean_absolute_error: 0.232 - ETA: 2s - loss: 0.0412 - mean_absolute_error: 0.232 - ETA: 1s - loss: 0.0412 - mean_absolute_error: 0.232 - ETA: 1s - loss: 0.0412 - mean_absolute_error: 0.232 - ETA: 1s - loss: 0.0412 - mean_absolute_error: 0.232 - ETA: 1s - loss: 0.0412 - mean_absolute_error: 0.232 - ETA: 1s - loss: 0.0412 - mean_absolute_error: 0.232 - ETA: 0s - loss: 0.0412 - mean_absolute_error: 0.232 - ETA: 0s - loss: 0.0412 - mean_absolute_error: 0.232 - ETA: 0s - loss: 0.0411 - mean_absolute_error: 0.232 - ETA: 0s - loss: 0.0411 - mean_absolute_error: 0.232 - ETA: 0s - loss: 0.0411 - mean_absolute_error: 0.232 - 15s 220ms/step - loss: 0.0411 - mean_absolute_error: 0.2320\n"
     ]
    },
    {
     "data": {
      "text/plain": [
       "<tensorflow.python.keras.callbacks.History at 0x7fb320393640>"
      ]
     },
     "execution_count": 15,
     "metadata": {},
     "output_type": "execute_result"
    }
   ],
   "source": [
    "with strategy.scope():\n",
    "    multi_worker_model = lstm_model\n",
    "    \n",
    "multi_worker_model.fit(multi_worker_dataset, epochs=500, steps_per_epoch=70)"
   ]
  },
  {
   "cell_type": "code",
   "execution_count": 5,
   "metadata": {
    "ExecuteTime": {
     "end_time": "2020-08-31T16:31:13.341815Z",
     "start_time": "2020-08-31T16:31:13.327824Z"
    }
   },
   "outputs": [
    {
     "name": "stdout",
     "output_type": "stream",
     "text": [
      "Model: \"sequential_21\"\n",
      "_________________________________________________________________\n",
      "Layer (type)                 Output Shape              Param #   \n",
      "=================================================================\n",
      "bidirectional_20 (Bidirectio (None, 20, 256)           1689600   \n",
      "_________________________________________________________________\n",
      "bidirectional_21 (Bidirectio (None, 256)               394240    \n",
      "_________________________________________________________________\n",
      "dense_10 (Dense)             (None, 1521)              390897    \n",
      "_________________________________________________________________\n",
      "lambda_10 (Lambda)           (None, 1521)              0         \n",
      "=================================================================\n",
      "Total params: 2,474,737\n",
      "Trainable params: 2,474,737\n",
      "Non-trainable params: 0\n",
      "_________________________________________________________________\n"
     ]
    }
   ],
   "source": [
    "lstm_model.summary()"
   ]
  }
 ],
 "metadata": {
  "kernelspec": {
   "display_name": "Python 3",
   "language": "python",
   "name": "python3"
  },
  "language_info": {
   "codemirror_mode": {
    "name": "ipython",
    "version": 3
   },
   "file_extension": ".py",
   "mimetype": "text/x-python",
   "name": "python",
   "nbconvert_exporter": "python",
   "pygments_lexer": "ipython3",
   "version": "3.8.3"
  },
  "toc": {
   "base_numbering": 1,
   "nav_menu": {},
   "number_sections": true,
   "sideBar": true,
   "skip_h1_title": false,
   "title_cell": "Table of Contents",
   "title_sidebar": "Contents",
   "toc_cell": false,
   "toc_position": {},
   "toc_section_display": true,
   "toc_window_display": false
  }
 },
 "nbformat": 4,
 "nbformat_minor": 4
}
